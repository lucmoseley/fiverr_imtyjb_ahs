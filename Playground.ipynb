{
 "cells": [
  {
   "cell_type": "code",
   "execution_count": 1,
   "id": "a8960616-7775-4169-8ea4-324cc36dd920",
   "metadata": {},
   "outputs": [],
   "source": [
    "import unittest"
   ]
  },
  {
   "cell_type": "markdown",
   "id": "76629921-677e-40b5-becd-9c9830f8eef0",
   "metadata": {},
   "source": [
    "### Directory structure\n",
    "Project should have the following structure:\n",
    "> ```python  \n",
    "> new_project  \n",
    "> ├── antigravity  \n",
    "> │   ├── __init__.py         # make it a package  \n",
    "> │   └── antigravity.py  \n",
    "> └── test  \n",
    ">     ├── __init__.py         # also make test a package  \n",
    ">     └── test_antigravity.py  \n",
    "> ```"
   ]
  },
  {
   "cell_type": "code",
   "execution_count": null,
   "id": "00eaa5e8-c159-4136-88cb-651b78f672b6",
   "metadata": {},
   "outputs": [],
   "source": []
  }
 ],
 "metadata": {
  "kernelspec": {
   "display_name": "Python 3 (ipykernel)",
   "language": "python",
   "name": "python3"
  },
  "language_info": {
   "codemirror_mode": {
    "name": "ipython",
    "version": 3
   },
   "file_extension": ".py",
   "mimetype": "text/x-python",
   "name": "python",
   "nbconvert_exporter": "python",
   "pygments_lexer": "ipython3",
   "version": "3.11.4"
  }
 },
 "nbformat": 4,
 "nbformat_minor": 5
}
