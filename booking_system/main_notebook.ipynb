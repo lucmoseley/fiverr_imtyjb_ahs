{
 "cells": [
  {
   "cell_type": "markdown",
   "id": "0c4070c3-c65b-4847-a1de-cb90a0b5ee7b",
   "metadata": {},
   "source": [
    "# Import relevant modules"
   ]
  },
  {
   "cell_type": "code",
   "execution_count": 1,
   "id": "d45f1919-e9be-4b0d-babd-93585b831cf2",
   "metadata": {},
   "outputs": [],
   "source": [
    "import numpy as np\n",
    "import pandas as pd\n",
    "import random\n",
    "import datetime\n",
    "import names\n",
    "import ccard"
   ]
  },
  {
   "cell_type": "markdown",
   "id": "928bcc75-df7a-4067-8084-7dea23b998d1",
   "metadata": {},
   "source": [
    "# Generate relevant tables with sample data"
   ]
  },
  {
   "cell_type": "markdown",
   "id": "4d8d8a03-3542-4275-b486-f343d035d280",
   "metadata": {},
   "source": [
    "### Generate table with room data"
   ]
  },
  {
   "cell_type": "markdown",
   "id": "ebf30704-ab58-4c59-bad0-de54958e1ba5",
   "metadata": {},
   "source": [
    "Set up a DataFrame 'room_data' to hold room-specific info."
   ]
  },
  {
   "cell_type": "code",
   "execution_count": 2,
   "id": "36215deb-e2bd-4b94-bb3b-4cd94aef6ed4",
   "metadata": {},
   "outputs": [],
   "source": [
    "# Create index and column names\n",
    "room_names = ['Room_{}'.format(i+1) for i in np.arange(18)]\n",
    "room_details = [\n",
    "    'adult_capacity', \n",
    "    'child_capacity', \n",
    "    'base_cost', \n",
    "    'child_cot_cost', \n",
    "    'view_type'\n",
    "    ]\n",
    "\n",
    "# Construct empty DataFrame\n",
    "room_data = pd.DataFrame(\n",
    "    index = room_names, \n",
    "    columns = room_details\n",
    "    )\n",
    "room_data.index.name = 'room_name'"
   ]
  },
  {
   "cell_type": "markdown",
   "id": "20e7a3fc-724c-40d1-8be9-c1b6a7ece529",
   "metadata": {},
   "source": [
    "Populate room_data with sample data"
   ]
  },
  {
   "cell_type": "code",
   "execution_count": 3,
   "id": "873a13f9-0688-4d48-b6b7-aaca3be65bb0",
   "metadata": {},
   "outputs": [],
   "source": [
    "# Set basic data\n",
    "room_data.loc[:, 'adult_capacity'] = 2\n",
    "room_data.loc[:, 'child_capacity'] = 2\n",
    "room_data.loc['Room_1':'Room_9', 'view_type'] = 'garden'\n",
    "room_data.loc['Room_10':'Room_18', 'view_type'] = 'city'\n",
    "room_data.loc[:, 'child_cot_cost'] = 20\n",
    "\n",
    "# Set different costs for garden and city views\n",
    "room_data.loc[room_data['view_type'] == 'garden', 'base_cost'] = 100\n",
    "room_data.loc[room_data['view_type'] == 'city', 'base_cost'] = 80"
   ]
  },
  {
   "cell_type": "code",
   "execution_count": 4,
   "id": "ab11ae7e-93d0-4810-b907-ee18142dcda1",
   "metadata": {},
   "outputs": [],
   "source": [
    "# Export table to ..."
   ]
  },
  {
   "cell_type": "code",
   "execution_count": 5,
   "id": "83edc647-4c52-4f9c-8755-77c91a0d0837",
   "metadata": {},
   "outputs": [],
   "source": [
    "# Tests/validations?\n",
    "# make sure all view_types in ['garden', 'city']\n",
    "# Check final prices are in the 50-200 range\n",
    "# Check total capacities are <6"
   ]
  },
  {
   "cell_type": "markdown",
   "id": "94536f97-4091-4597-ae96-df679a7be9a0",
   "metadata": {},
   "source": [
    "### Generate table with customer data"
   ]
  },
  {
   "cell_type": "markdown",
   "id": "687b838d-779b-4d81-9688-8df342313848",
   "metadata": {},
   "source": [
    "Set up table cust_data to hold customer-specific info."
   ]
  },
  {
   "cell_type": "code",
   "execution_count": 6,
   "id": "ed50c043-5730-4ec3-97fe-1a0a2b92104e",
   "metadata": {},
   "outputs": [],
   "source": [
    "# Create index and column names\n",
    "cust_names = list(set(names.get_full_name() for i in range(500)))\n",
    "cust_details = [\n",
    "    'customer_initials',\n",
    "    'total_visits',\n",
    "    'credit_card_type',\n",
    "    'credit_card_number',\n",
    "    'email',\n",
    "    'phone_number'\n",
    "    ]\n",
    "\n",
    "# Construct empty DataFrame\n",
    "cust_data = pd.DataFrame(\n",
    "    index = cust_names,\n",
    "    columns = cust_details\n",
    "    )\n",
    "cust_data.index.name = 'customer_name'"
   ]
  },
  {
   "cell_type": "markdown",
   "id": "46fda193-7202-4f91-8c5b-c2263f193912",
   "metadata": {},
   "source": [
    "Populate cust_data with sample data"
   ]
  },
  {
   "cell_type": "code",
   "execution_count": 7,
   "id": "237c911e-70ac-4f04-ae22-c039d238a2d8",
   "metadata": {},
   "outputs": [],
   "source": [
    "# Use index to figure out customer initials\n",
    "cust_data.loc[:, 'customer_initials'] = list(\n",
    "    map(\n",
    "        lambda x: '{}'.format(''.join([i[0].upper() for i in x.split()])), \n",
    "        cust_data.index\n",
    "        )\n",
    "    )\n",
    "\n",
    "# Assign a random number of total visits between 1 and 3\n",
    "cust_data.loc[:, 'total_visits'] = np.random.randint(\n",
    "    low = 1, \n",
    "    high = 3, \n",
    "    size = cust_data.shape[0]\n",
    "    )\n",
    "\n",
    "# Generate sample emails based on customer names\n",
    "cust_data.loc[:, 'email'] = list(\n",
    "    map(\n",
    "        lambda x: '{}@gmail.com'.format('.'.join([i.lower() for i in x.split()])), \n",
    "        cust_data.index\n",
    "        )\n",
    "    )\n",
    "\n",
    "# Assign card type as either visa or mastercard to all customers\n",
    "card_types = ['visa', 'mastercard']\n",
    "cust_data.loc[:, 'credit_card_type'] = [\n",
    "    np.random.choice(card_types) for i in range(cust_data.shape[0])\n",
    "    ]\n",
    "\n",
    "# Generate appropriate card numbers for customers based on card type\n",
    "num_visa_cards = np.sum(cust_data['credit_card_type'] == 'visa')\n",
    "num_master_cards = np.sum(cust_data['credit_card_type'] == 'mastercard')\n",
    "cust_data.loc[cust_data['credit_card_type'] == 'visa', 'credit_card_number'] = [\n",
    "    str(ccard.visa()) for i in range(num_visa_cards)\n",
    "    ]\n",
    "cust_data.loc[cust_data['credit_card_type'] == 'mastercard', 'credit_card_number'] = [\n",
    "    str(ccard.mastercard()) for i in range(num_master_cards)\n",
    "    ]\n",
    "\n",
    "# Assign random phone numbers to customers\n",
    "phone_nums = list(\n",
    "    map(\n",
    "        str, \n",
    "        np.random.randint(\n",
    "            low = 1000000000, \n",
    "            high = 9999999999, \n",
    "            size = cust_data.shape[0]\n",
    "            )\n",
    "        )\n",
    "    )\n",
    "cust_data.loc[:, 'phone_number'] = list(\n",
    "    map(\n",
    "        lambda x: '{} {} {}'.format(x[0:2], x[2:6], x[6:10]), \n",
    "        phone_nums\n",
    "        )\n",
    "    )"
   ]
  },
  {
   "cell_type": "code",
   "execution_count": 8,
   "id": "f6359db8-53e3-4841-8f89-dea212fdf1ed",
   "metadata": {},
   "outputs": [],
   "source": [
    "# Export table to ..."
   ]
  },
  {
   "cell_type": "code",
   "execution_count": 9,
   "id": "12785d2c-b493-4501-b21f-b88e0cbdf4e6",
   "metadata": {},
   "outputs": [],
   "source": [
    "# Tests/validations?\n",
    "# Will need test to make sure first name and last name only entered"
   ]
  },
  {
   "cell_type": "markdown",
   "id": "a4e04add-b813-4c21-8583-0bc86cef3460",
   "metadata": {},
   "source": [
    "### Generate table with reservations data"
   ]
  },
  {
   "cell_type": "code",
   "execution_count": 10,
   "id": "566e41c2-bf1f-46c7-80bd-9dcfe29077e5",
   "metadata": {},
   "outputs": [],
   "source": [
    "# Reservation code x (staff member, customer name, num guests, reservation details..., promo code, price)\n",
    "# - price is more if child\n",
    "\n",
    "# New entry into reservation table -> generates option for return customer flag if email matches previous, or last name matches\n"
   ]
  },
  {
   "cell_type": "markdown",
   "id": "df141617-758f-4c9e-b8de-bbdb983616b6",
   "metadata": {},
   "source": [
    "Set up a DataFrame 'reservation_data' to hold reservation info."
   ]
  },
  {
   "cell_type": "code",
   "execution_count": 11,
   "id": "c71f2a41-f845-4a5b-8114-e10250c982f1",
   "metadata": {},
   "outputs": [],
   "source": [
    "# Create index and column names\n",
    "reservation_fields = [\n",
    "    'staff_member_initials',\n",
    "    'customer_name',\n",
    "    'arrival_date',\n",
    "    'departure_date',\n",
    "    'booking_length',\n",
    "    'reservation_status',\n",
    "    'repeat_customer_flag',\n",
    "    'num_adults',\n",
    "    'num_children',\n",
    "    'num_infants', # no charge b/c no cots needed?\n",
    "    'num_rooms_booked',\n",
    "    'rooms_booked', # list of room_names\n",
    "    'promo_code_flag',\n",
    "    'total_price',\n",
    "    'staff_notes'\n",
    "    ]\n",
    "\n",
    "# Determine total number of reservations using cust_data\n",
    "num_reservations = sum(cust_data.total_visits)\n",
    "index_placeholder = np.arange(num_reservations)\n",
    "\n",
    "# Construct empty DataFrame\n",
    "reservation_data = pd.DataFrame(\n",
    "    index = index_placeholder,\n",
    "    columns = reservation_fields\n",
    "    )"
   ]
  },
  {
   "cell_type": "markdown",
   "id": "769ce957-f6e9-40c4-9b1a-58c91dcdf60c",
   "metadata": {},
   "source": [
    "Populate reservation_data with sample data"
   ]
  },
  {
   "cell_type": "code",
   "execution_count": 15,
   "id": "ce943095-53d4-4c7c-99ab-c9c39bb2c5f5",
   "metadata": {},
   "outputs": [],
   "source": [
    "# Assign a random staff member for each reservation\n",
    "staff_members = ['BR', 'VP', 'KJ', 'JT', 'MT']\n",
    "reservation_data.loc[:, 'staff_member_initials'] = [\n",
    "    np.random.choice(staff_members) for i in range(reservation_data.shape[0])\n",
    "    ]\n",
    "\n",
    "# Assign a random customer for each reservation\n",
    "visits_data = cust_data.total_visits\n",
    "customers = sum(\n",
    "    [[name] * num_visits \n",
    "     for name, num_visits \n",
    "     in zip(visits_data.index, visits_data.values)],\n",
    "    []\n",
    "    )\n",
    "random.shuffle(customers)\n",
    "reservation_data.loc[:, 'customer_name'] = customers\n",
    "\n",
    "# Assign a random arrival date\n",
    "# Reservations date range will span last 1 year to 1 month from today\n",
    "today = datetime.datetime.strptime('20/09/2023', \"%d/%m/%Y\").date()\n",
    "date_list = [today + datetime.timedelta(days = x) for x in range(-365, 31)]\n",
    "reservation_data.loc[:, 'arrival_date'] = [\n",
    "    np.random.choice(date_list) for i in range(reservation_data.shape[0])\n",
    "    ]\n",
    "\n",
    "# Assume stays of uniform probability between 1 and 7 days \n",
    "booking_lengths = [\n",
    "    datetime.timedelta(\n",
    "        days = np.random.randint(low = 1, \n",
    "                                 high = 7\n",
    "                                )\n",
    "        ) \n",
    "        for i in range(reservation_data.shape[0])\n",
    "    ]\n",
    "reservation_data.loc[:, 'departure_date'] = (\n",
    "    reservation_data.loc[:, 'arrival_date']\n",
    "    + booking_lengths\n",
    "    )\n",
    "\n",
    "# Assign booking lengths\n",
    "booking_lengths_ints = [x.days for x in booking_lengths]\n",
    "reservation_data.loc[:, 'booking_length'] = booking_lengths_ints\n",
    "\n",
    "# Generate reservation statuses based on dates given\n",
    "# (cancelled/upcoming/active/completed)\n",
    "reservation_data.loc[:, 'reservation_status'] = 'active'\n",
    "reservation_data.loc[reservation_data['arrival_date'] > today, 'reservation_status'] = [\n",
    "    'upcoming']\n",
    "reservation_data.loc[reservation_data['departure_date'] < today, 'reservation_status'] = [\n",
    "    'completed']\n",
    "# Assume 1% of reservations get cancelled\n",
    "reservation_data.loc[reservation_data.index % 100 == 0, 'reservation_status'] = [\n",
    "    'cancelled']\n",
    "\n",
    "# Assign a random flag for repeat customer Y/N\n",
    "repeat_flags = ['Y', 'N']\n",
    "reservation_data.loc[:, 'repeat_customer_flag'] = [\n",
    "    np.random.choice(repeat_flags) for i in range(reservation_data.shape[0])\n",
    "    ]\n",
    "\n",
    "# Assign a random number of adults between 1 & 4\n",
    "num_adults = [1, 2, 3, 4]\n",
    "reservation_data.loc[:, 'num_adults'] = [\n",
    "    np.random.choice(num_adults) for i in range(reservation_data.shape[0])\n",
    "    ]\n",
    "\n",
    "# Assign a random number of children between 0 & 2\n",
    "num_children = [0, 1, 2]\n",
    "reservation_data.loc[:, 'num_children'] = [\n",
    "    np.random.choice(num_children) for i in range(reservation_data.shape[0])\n",
    "    ]\n",
    "\n",
    "# Assign a random number of infants between 0 & 2\n",
    "num_infants = [0, 1, 2]\n",
    "reservation_data.loc[:, 'num_infants'] = [\n",
    "    np.random.choice(num_infants) for i in range(reservation_data.shape[0])\n",
    "    ]\n",
    "\n",
    "# Calculate the number of rooms booked based on reservation size\n",
    "reservation_data.loc[:, 'num_rooms_booked'] = 1\n",
    "reservation_data.loc[reservation_data['num_adults'] > 2, 'num_rooms_booked'] = 2\n",
    "\n",
    "# Assign specific rooms randomly based on number of rooms booked\n",
    "num_single_books = sum(reservation_data['num_rooms_booked'] == 1)\n",
    "num_double_books = sum(reservation_data['num_rooms_booked'] == 2)\n",
    "reservation_data.loc[reservation_data['num_rooms_booked'] == 1, 'rooms_booked'] = [\n",
    "    [np.random.choice(room_names)] for i in range(num_single_books)\n",
    "    ]\n",
    "reservation_data.loc[reservation_data['num_rooms_booked'] == 2, 'rooms_booked'] = [\n",
    "    np.random.choice(\n",
    "        room_names, \n",
    "        size = 2, \n",
    "        replace = False\n",
    "        ) \n",
    "        for i in range(num_double_books)\n",
    "    ]\n",
    "\n",
    "# Assign promo code flag randomly\n",
    "# Assume 10% of reservations have a code\n",
    "reservation_data = reservation_data.sample(frac = 1, ignore_index = True)\n",
    "reservation_data.loc[:, 'promo_code_flag'] = 'N'\n",
    "reservation_data.loc[reservation_data.index % 10 == 0, 'promo_code_flag'] = 'Y'\n",
    "\n",
    "# Calculate total prices based on rooms reserved and nights stayed\n",
    "\n",
    "\n",
    "# Remove double-bookings in sample data"
   ]
  },
  {
   "cell_type": "code",
   "execution_count": 16,
   "id": "4b563b27-e655-4442-a35c-2d4fc75e194b",
   "metadata": {},
   "outputs": [
    {
     "data": {
      "text/html": [
       "<div>\n",
       "<style scoped>\n",
       "    .dataframe tbody tr th:only-of-type {\n",
       "        vertical-align: middle;\n",
       "    }\n",
       "\n",
       "    .dataframe tbody tr th {\n",
       "        vertical-align: top;\n",
       "    }\n",
       "\n",
       "    .dataframe thead th {\n",
       "        text-align: right;\n",
       "    }\n",
       "</style>\n",
       "<table border=\"1\" class=\"dataframe\">\n",
       "  <thead>\n",
       "    <tr style=\"text-align: right;\">\n",
       "      <th></th>\n",
       "      <th>staff_member_initials</th>\n",
       "      <th>customer_name</th>\n",
       "      <th>arrival_date</th>\n",
       "      <th>departure_date</th>\n",
       "      <th>booking_length</th>\n",
       "      <th>reservation_status</th>\n",
       "      <th>repeat_customer_flag</th>\n",
       "      <th>num_adults</th>\n",
       "      <th>num_children</th>\n",
       "      <th>num_infants</th>\n",
       "      <th>num_rooms_booked</th>\n",
       "      <th>rooms_booked</th>\n",
       "      <th>promo_code_flag</th>\n",
       "      <th>total_price</th>\n",
       "      <th>staff_notes</th>\n",
       "    </tr>\n",
       "  </thead>\n",
       "  <tbody>\n",
       "    <tr>\n",
       "      <th>0</th>\n",
       "      <td>VP</td>\n",
       "      <td>Dolores Flanagan</td>\n",
       "      <td>2022-10-29</td>\n",
       "      <td>2022-11-02</td>\n",
       "      <td>4</td>\n",
       "      <td>completed</td>\n",
       "      <td>Y</td>\n",
       "      <td>1</td>\n",
       "      <td>1</td>\n",
       "      <td>0</td>\n",
       "      <td>1</td>\n",
       "      <td>[Room_3]</td>\n",
       "      <td>Y</td>\n",
       "      <td>NaN</td>\n",
       "      <td>NaN</td>\n",
       "    </tr>\n",
       "    <tr>\n",
       "      <th>1</th>\n",
       "      <td>MT</td>\n",
       "      <td>Jeffrey Jackson</td>\n",
       "      <td>2022-12-12</td>\n",
       "      <td>2022-12-17</td>\n",
       "      <td>5</td>\n",
       "      <td>completed</td>\n",
       "      <td>N</td>\n",
       "      <td>4</td>\n",
       "      <td>0</td>\n",
       "      <td>1</td>\n",
       "      <td>2</td>\n",
       "      <td>[Room_15, Room_12]</td>\n",
       "      <td>N</td>\n",
       "      <td>NaN</td>\n",
       "      <td>NaN</td>\n",
       "    </tr>\n",
       "    <tr>\n",
       "      <th>2</th>\n",
       "      <td>MT</td>\n",
       "      <td>Holly Bearden</td>\n",
       "      <td>2022-11-06</td>\n",
       "      <td>2022-11-10</td>\n",
       "      <td>4</td>\n",
       "      <td>completed</td>\n",
       "      <td>Y</td>\n",
       "      <td>2</td>\n",
       "      <td>1</td>\n",
       "      <td>0</td>\n",
       "      <td>1</td>\n",
       "      <td>[Room_13]</td>\n",
       "      <td>N</td>\n",
       "      <td>NaN</td>\n",
       "      <td>NaN</td>\n",
       "    </tr>\n",
       "    <tr>\n",
       "      <th>3</th>\n",
       "      <td>VP</td>\n",
       "      <td>Cathleen Bailey</td>\n",
       "      <td>2023-04-04</td>\n",
       "      <td>2023-04-09</td>\n",
       "      <td>5</td>\n",
       "      <td>completed</td>\n",
       "      <td>Y</td>\n",
       "      <td>2</td>\n",
       "      <td>2</td>\n",
       "      <td>0</td>\n",
       "      <td>1</td>\n",
       "      <td>[Room_13]</td>\n",
       "      <td>N</td>\n",
       "      <td>NaN</td>\n",
       "      <td>NaN</td>\n",
       "    </tr>\n",
       "    <tr>\n",
       "      <th>4</th>\n",
       "      <td>BR</td>\n",
       "      <td>Michael Wilson</td>\n",
       "      <td>2023-05-06</td>\n",
       "      <td>2023-05-11</td>\n",
       "      <td>5</td>\n",
       "      <td>completed</td>\n",
       "      <td>Y</td>\n",
       "      <td>1</td>\n",
       "      <td>0</td>\n",
       "      <td>1</td>\n",
       "      <td>1</td>\n",
       "      <td>[Room_5]</td>\n",
       "      <td>N</td>\n",
       "      <td>NaN</td>\n",
       "      <td>NaN</td>\n",
       "    </tr>\n",
       "  </tbody>\n",
       "</table>\n",
       "</div>"
      ],
      "text/plain": [
       "  staff_member_initials     customer_name arrival_date departure_date  \\\n",
       "0                    VP  Dolores Flanagan   2022-10-29     2022-11-02   \n",
       "1                    MT   Jeffrey Jackson   2022-12-12     2022-12-17   \n",
       "2                    MT     Holly Bearden   2022-11-06     2022-11-10   \n",
       "3                    VP   Cathleen Bailey   2023-04-04     2023-04-09   \n",
       "4                    BR    Michael Wilson   2023-05-06     2023-05-11   \n",
       "\n",
       "  booking_length reservation_status repeat_customer_flag num_adults  \\\n",
       "0              4          completed                    Y          1   \n",
       "1              5          completed                    N          4   \n",
       "2              4          completed                    Y          2   \n",
       "3              5          completed                    Y          2   \n",
       "4              5          completed                    Y          1   \n",
       "\n",
       "  num_children num_infants num_rooms_booked        rooms_booked  \\\n",
       "0            1           0                1            [Room_3]   \n",
       "1            0           1                2  [Room_15, Room_12]   \n",
       "2            1           0                1           [Room_13]   \n",
       "3            2           0                1           [Room_13]   \n",
       "4            0           1                1            [Room_5]   \n",
       "\n",
       "  promo_code_flag total_price staff_notes  \n",
       "0               Y         NaN         NaN  \n",
       "1               N         NaN         NaN  \n",
       "2               N         NaN         NaN  \n",
       "3               N         NaN         NaN  \n",
       "4               N         NaN         NaN  "
      ]
     },
     "execution_count": 16,
     "metadata": {},
     "output_type": "execute_result"
    }
   ],
   "source": [
    "reservation_data.head()"
   ]
  },
  {
   "cell_type": "code",
   "execution_count": null,
   "id": "9fc26b03-5f5b-4ce8-8f45-e53cf2599943",
   "metadata": {},
   "outputs": [],
   "source": [
    "booking_lengths[0].days"
   ]
  },
  {
   "cell_type": "code",
   "execution_count": null,
   "id": "0c3ee7b5-2531-420c-8b36-1ab17a00d491",
   "metadata": {},
   "outputs": [],
   "source": [
    "[x.days for x in booking_lengths]"
   ]
  },
  {
   "cell_type": "code",
   "execution_count": null,
   "id": "95b1d327-89ab-443c-94c0-91deffe91a8c",
   "metadata": {},
   "outputs": [],
   "source": [
    "reservation_data.head()"
   ]
  },
  {
   "cell_type": "code",
   "execution_count": null,
   "id": "0d95842f-bed8-43d3-9d45-835dbd93298b",
   "metadata": {},
   "outputs": [],
   "source": [
    "room_names"
   ]
  },
  {
   "cell_type": "code",
   "execution_count": null,
   "id": "fb69800d-ab19-45d6-b627-96371e8d1e43",
   "metadata": {},
   "outputs": [],
   "source": []
  },
  {
   "cell_type": "code",
   "execution_count": null,
   "id": "90b02222-53b9-42ea-8908-8c73f07ae37e",
   "metadata": {},
   "outputs": [],
   "source": [
    "reservation_data.loc[:,['arrival_date','num_rooms_booked']].groupby('arrival_date').sum()\n"
   ]
  },
  {
   "cell_type": "code",
   "execution_count": null,
   "id": "dd0ac2e1-997c-4e85-a332-f240e29f33b0",
   "metadata": {},
   "outputs": [],
   "source": [
    "reservation_data.head(10)"
   ]
  },
  {
   "cell_type": "code",
   "execution_count": null,
   "id": "94069a7a-1a0b-48e5-9e70-c6c2a3a318a1",
   "metadata": {},
   "outputs": [],
   "source": []
  },
  {
   "cell_type": "code",
   "execution_count": null,
   "id": "14000b36-c89e-41d2-8a6f-a2b24f047ce7",
   "metadata": {},
   "outputs": [],
   "source": [
    "# code: agentinitials-dateofarrival-dateofdeparture-roomno-custinitials-sequentialno"
   ]
  },
  {
   "cell_type": "code",
   "execution_count": null,
   "id": "63019c0d-3c75-4278-b241-541aec6ebd12",
   "metadata": {},
   "outputs": [],
   "source": [
    "# Export table to ..."
   ]
  },
  {
   "cell_type": "code",
   "execution_count": null,
   "id": "c679a141-aad0-4919-a40d-20e7a88732e2",
   "metadata": {},
   "outputs": [],
   "source": [
    "# Tests/validations?\n",
    "# Check final prices are in the 50-200 range\n",
    "# Check total capacities are <6"
   ]
  },
  {
   "cell_type": "code",
   "execution_count": null,
   "id": "13f87938-64c6-4e39-9f4c-097f1add6851",
   "metadata": {},
   "outputs": [],
   "source": []
  },
  {
   "cell_type": "markdown",
   "id": "1b67ba0e-5f8a-43ff-82dd-dad7ff372fa9",
   "metadata": {},
   "source": [
    "### Generate table with room availability data\n",
    "(populated with reservation code or available)"
   ]
  },
  {
   "cell_type": "markdown",
   "id": "744afdbf-9e1e-4906-bdb7-c01c6c00804c",
   "metadata": {},
   "source": [
    "Set up a DataFrame 'availability_data' to hold room availability info."
   ]
  },
  {
   "cell_type": "code",
   "execution_count": null,
   "id": "672f8762-b4bf-4421-bc1e-01eb3fc1e3e8",
   "metadata": {},
   "outputs": [],
   "source": [
    "# Sample date range will span last 1 year to 1 year from today\n",
    "today = datetime.datetime.today().date()\n",
    "\n",
    "# Create index and column names\n",
    "date_list = [today + datetime.timedelta(days=x) for x in range(-365, 365)]\n",
    "\n",
    "# Construct empty DataFrame\n",
    "availability_data = pd.DataFrame(\n",
    "    index = room_names, \n",
    "    columns = date_list,\n",
    "    data = 'empty'\n",
    "    )"
   ]
  },
  {
   "cell_type": "markdown",
   "id": "047fadf4-3815-4864-92d7-5db588260828",
   "metadata": {},
   "source": [
    "Populate availability_data with sample reservation codes"
   ]
  },
  {
   "cell_type": "code",
   "execution_count": null,
   "id": "06a8fd71-a897-4367-9aa3-5ce9bed7073e",
   "metadata": {},
   "outputs": [],
   "source": [
    "# Assign reservation codes based on reservation_data"
   ]
  },
  {
   "cell_type": "code",
   "execution_count": null,
   "id": "89af798b-1a99-4d61-8ad8-e5c5083f85e2",
   "metadata": {},
   "outputs": [],
   "source": [
    "# Export table to ..."
   ]
  },
  {
   "cell_type": "code",
   "execution_count": null,
   "id": "8655047a-1c98-491c-9b9a-486e1a1b1249",
   "metadata": {},
   "outputs": [],
   "source": [
    "# Tests/validations?\n",
    "# Check columns are valid dates?"
   ]
  }
 ],
 "metadata": {
  "kernelspec": {
   "display_name": "Python 3 (ipykernel)",
   "language": "python",
   "name": "python3"
  },
  "language_info": {
   "codemirror_mode": {
    "name": "ipython",
    "version": 3
   },
   "file_extension": ".py",
   "mimetype": "text/x-python",
   "name": "python",
   "nbconvert_exporter": "python",
   "pygments_lexer": "ipython3",
   "version": "3.11.4"
  }
 },
 "nbformat": 4,
 "nbformat_minor": 5
}
