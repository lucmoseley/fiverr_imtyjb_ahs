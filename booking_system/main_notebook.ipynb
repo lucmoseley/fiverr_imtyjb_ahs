{
 "cells": [
  {
   "cell_type": "markdown",
   "id": "0c4070c3-c65b-4847-a1de-cb90a0b5ee7b",
   "metadata": {},
   "source": [
    "# Import relevant modules"
   ]
  },
  {
   "cell_type": "code",
   "execution_count": 1,
   "id": "d45f1919-e9be-4b0d-babd-93585b831cf2",
   "metadata": {},
   "outputs": [],
   "source": [
    "import numpy as np\n",
    "import pandas as pd\n",
    "import datetime"
   ]
  },
  {
   "cell_type": "markdown",
   "id": "928bcc75-df7a-4067-8084-7dea23b998d1",
   "metadata": {},
   "source": [
    "# Generate relevant tables with sample data"
   ]
  },
  {
   "cell_type": "markdown",
   "id": "4d8d8a03-3542-4275-b486-f343d035d280",
   "metadata": {},
   "source": [
    "### Generate table with room data"
   ]
  },
  {
   "cell_type": "markdown",
   "id": "ebf30704-ab58-4c59-bad0-de54958e1ba5",
   "metadata": {},
   "source": [
    "Set up a DataFrame 'room_data' to hold room-specific info."
   ]
  },
  {
   "cell_type": "code",
   "execution_count": 2,
   "id": "36215deb-e2bd-4b94-bb3b-4cd94aef6ed4",
   "metadata": {},
   "outputs": [],
   "source": [
    "room_names = ['Room_{}'.format(i+1) for i in np.arange(18)]\n",
    "room_details = [\n",
    "    'adult_capacity', \n",
    "    'child_capacity', \n",
    "    'base_cost', \n",
    "    'child_cot_cost', \n",
    "    'view_type'\n",
    "    ]\n",
    "room_data = pd.DataFrame(\n",
    "    index = room_names, \n",
    "    columns = room_details\n",
    "    )\n",
    "room_data.index.name = 'room_name'"
   ]
  },
  {
   "cell_type": "markdown",
   "id": "20e7a3fc-724c-40d1-8be9-c1b6a7ece529",
   "metadata": {},
   "source": [
    "Populate room_data with sample data"
   ]
  },
  {
   "cell_type": "code",
   "execution_count": 3,
   "id": "873a13f9-0688-4d48-b6b7-aaca3be65bb0",
   "metadata": {},
   "outputs": [],
   "source": [
    "# Set basic data\n",
    "room_data.loc[:, 'adult_capacity'] = 2\n",
    "room_data.loc[:, 'child_capacity'] = 1\n",
    "room_data.loc['Room_1':'Room_9', 'view_type'] = 'garden'\n",
    "room_data.loc['Room_10':'Room_18', 'view_type'] = 'city'\n",
    "room_data.loc[:, 'child_cot_cost'] = 20\n",
    "\n",
    "# Set different costs for garden and city views\n",
    "room_data.loc[room_data['view_type'] == 'garden', 'base_cost'] = 100\n",
    "room_data.loc[room_data['view_type'] == 'city', 'base_cost'] = 80"
   ]
  },
  {
   "cell_type": "code",
   "execution_count": 4,
   "id": "ab11ae7e-93d0-4810-b907-ee18142dcda1",
   "metadata": {},
   "outputs": [],
   "source": [
    "# Export table to ..."
   ]
  },
  {
   "cell_type": "code",
   "execution_count": 5,
   "id": "83edc647-4c52-4f9c-8755-77c91a0d0837",
   "metadata": {},
   "outputs": [],
   "source": [
    "# Tests/validations?\n",
    "# make sure all view_types in ['garden', 'city']\n",
    "# Check final prices are in the 50-200 range\n",
    "# Check total capacities are <6"
   ]
  },
  {
   "cell_type": "markdown",
   "id": "a4e04add-b813-4c21-8583-0bc86cef3460",
   "metadata": {},
   "source": [
    "### Generate table with reservations data"
   ]
  },
  {
   "cell_type": "code",
   "execution_count": 6,
   "id": "566e41c2-bf1f-46c7-80bd-9dcfe29077e5",
   "metadata": {},
   "outputs": [],
   "source": [
    "# Reservation code x (staff member, customer name, num guests, reservation details..., promo code, price)\n",
    "# - price is more if child\n",
    "\n",
    "# New entry into reservation table -> generates option for return customer flag if email matches previous, or last name matches\n"
   ]
  },
  {
   "cell_type": "markdown",
   "id": "df141617-758f-4c9e-b8de-bbdb983616b6",
   "metadata": {},
   "source": [
    "Set up a DataFrame 'reservation_data' to hold reservation info."
   ]
  },
  {
   "cell_type": "code",
   "execution_count": 2,
   "id": "c71f2a41-f845-4a5b-8114-e10250c982f1",
   "metadata": {},
   "outputs": [],
   "source": [
    "# Sample date range will span last 2 years to 2 years from today\n",
    "today = datetime.datetime.strptime('20/09/2023', \"%d/%m/%Y\").date()\n",
    "\n",
    "# Assume:\n",
    "# - stays of 1 to 7 days \n",
    "# - hotel was booked at 80% capacity for last 2 years\n",
    "# - hotel has 60% of capacity booked for the coming month\n",
    "\n",
    "\n",
    "staff_members = ['Bob', 'Steve', 'John', 'Mary', 'Emily']\n",
    "\n",
    "room_names = ['Room_{}'.format(i+1) for i in np.arange(18)]\n",
    "room_details = [\n",
    "    'adult_capacity', \n",
    "    'child_capacity', \n",
    "    'base_cost', \n",
    "    'child_cot_cost', \n",
    "    'view_type'\n",
    "    ]\n",
    "room_data = pd.DataFrame(\n",
    "    index = room_names, \n",
    "    columns = room_details\n",
    "    )\n",
    "room_data.index.name = 'room_name'"
   ]
  },
  {
   "cell_type": "code",
   "execution_count": null,
   "id": "14000b36-c89e-41d2-8a6f-a2b24f047ce7",
   "metadata": {},
   "outputs": [],
   "source": []
  },
  {
   "cell_type": "markdown",
   "id": "769ce957-f6e9-40c4-9b1a-58c91dcdf60c",
   "metadata": {},
   "source": [
    "Populate room_data with sample data"
   ]
  },
  {
   "cell_type": "code",
   "execution_count": 3,
   "id": "17116997-2e27-4db6-9e06-b3213b7ecefd",
   "metadata": {},
   "outputs": [],
   "source": [
    "# Set basic data\n",
    "room_data.loc[:, 'adult_capacity'] = 2\n",
    "room_data.loc[:, 'child_capacity'] = 1\n",
    "room_data.loc['Room_1':'Room_9', 'view_type'] = 'garden'\n",
    "room_data.loc['Room_10':'Room_18', 'view_type'] = 'city'\n",
    "room_data.loc[:, 'child_cot_cost'] = 20\n",
    "\n",
    "# Set different costs for garden and city views\n",
    "room_data.loc[room_data['view_type'] == 'garden', 'base_cost'] = 100\n",
    "room_data.loc[room_data['view_type'] == 'city', 'base_cost'] = 80"
   ]
  },
  {
   "cell_type": "code",
   "execution_count": 4,
   "id": "63019c0d-3c75-4278-b241-541aec6ebd12",
   "metadata": {},
   "outputs": [],
   "source": [
    "# Export table to ..."
   ]
  },
  {
   "cell_type": "code",
   "execution_count": 5,
   "id": "c679a141-aad0-4919-a40d-20e7a88732e2",
   "metadata": {},
   "outputs": [],
   "source": [
    "# Tests/validations?\n",
    "# make sure all view_types in ['garden', 'city']\n",
    "# Check final prices are in the 50-200 range\n",
    "# Check total capacities are <6"
   ]
  },
  {
   "cell_type": "code",
   "execution_count": null,
   "id": "13f87938-64c6-4e39-9f4c-097f1add6851",
   "metadata": {},
   "outputs": [],
   "source": []
  },
  {
   "cell_type": "markdown",
   "id": "1b67ba0e-5f8a-43ff-82dd-dad7ff372fa9",
   "metadata": {},
   "source": [
    "### Generate table with room availability data\n",
    "(populated with reservation code or available)"
   ]
  },
  {
   "cell_type": "markdown",
   "id": "744afdbf-9e1e-4906-bdb7-c01c6c00804c",
   "metadata": {},
   "source": [
    "Set up a DataFrame 'availability_data' to hold room availability info."
   ]
  },
  {
   "cell_type": "code",
   "execution_count": 7,
   "id": "672f8762-b4bf-4421-bc1e-01eb3fc1e3e8",
   "metadata": {},
   "outputs": [],
   "source": [
    "# Sample date range will span last 2 years to 2 years from today\n",
    "today = datetime.datetime.today().date()\n",
    "date_list = [today + datetime.timedelta(days=x) for x in range(-730, 730)]\n",
    "availability_data = pd.DataFrame(\n",
    "    index = room_names, \n",
    "    columns = date_list,\n",
    "    data = 'empty'\n",
    "    )"
   ]
  },
  {
   "cell_type": "markdown",
   "id": "047fadf4-3815-4864-92d7-5db588260828",
   "metadata": {},
   "source": [
    "Populate availability_data with sample reservation codes"
   ]
  },
  {
   "cell_type": "code",
   "execution_count": 8,
   "id": "06a8fd71-a897-4367-9aa3-5ce9bed7073e",
   "metadata": {},
   "outputs": [],
   "source": [
    "# Assign reservation codes based on reservation_data"
   ]
  },
  {
   "cell_type": "code",
   "execution_count": 9,
   "id": "89af798b-1a99-4d61-8ad8-e5c5083f85e2",
   "metadata": {},
   "outputs": [],
   "source": [
    "# Export table to ..."
   ]
  },
  {
   "cell_type": "code",
   "execution_count": 10,
   "id": "8655047a-1c98-491c-9b9a-486e1a1b1249",
   "metadata": {},
   "outputs": [],
   "source": [
    "# Tests/validations?\n",
    "# Check columns are valid dates?"
   ]
  },
  {
   "cell_type": "markdown",
   "id": "873587f5-390a-44ac-97c6-27d3b1f11684",
   "metadata": {},
   "source": [
    "### Generate table with customer data\n",
    "Customers x cust. details"
   ]
  }
 ],
 "metadata": {
  "kernelspec": {
   "display_name": "Python 3 (ipykernel)",
   "language": "python",
   "name": "python3"
  },
  "language_info": {
   "codemirror_mode": {
    "name": "ipython",
    "version": 3
   },
   "file_extension": ".py",
   "mimetype": "text/x-python",
   "name": "python",
   "nbconvert_exporter": "python",
   "pygments_lexer": "ipython3",
   "version": "3.11.4"
  }
 },
 "nbformat": 4,
 "nbformat_minor": 5
}
