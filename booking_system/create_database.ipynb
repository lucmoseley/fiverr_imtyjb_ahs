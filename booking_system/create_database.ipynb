{
 "cells": [
  {
   "cell_type": "markdown",
   "id": "0c4070c3-c65b-4847-a1de-cb90a0b5ee7b",
   "metadata": {},
   "source": [
    "# Import relevant modules"
   ]
  },
  {
   "cell_type": "code",
   "execution_count": 1,
   "id": "d45f1919-e9be-4b0d-babd-93585b831cf2",
   "metadata": {},
   "outputs": [],
   "source": [
    "import numpy as np\n",
    "import pandas as pd\n",
    "import random\n",
    "import datetime\n",
    "import names\n",
    "import ccard\n",
    "import sqlite3\n",
    "import sqlalchemy\n",
    "from sqlalchemy.types import *"
   ]
  },
  {
   "cell_type": "markdown",
   "id": "928bcc75-df7a-4067-8084-7dea23b998d1",
   "metadata": {},
   "source": [
    "# Generate relevant tables with sample data"
   ]
  },
  {
   "cell_type": "markdown",
   "id": "4d8d8a03-3542-4275-b486-f343d035d280",
   "metadata": {},
   "source": [
    "### Generate table with room data"
   ]
  },
  {
   "cell_type": "markdown",
   "id": "ebf30704-ab58-4c59-bad0-de54958e1ba5",
   "metadata": {},
   "source": [
    "Set up a DataFrame 'room_data' to hold room-specific info."
   ]
  },
  {
   "cell_type": "code",
   "execution_count": 2,
   "id": "36215deb-e2bd-4b94-bb3b-4cd94aef6ed4",
   "metadata": {},
   "outputs": [],
   "source": [
    "# Create index and column names\n",
    "room_names_0_9 = ['Room_0{}'.format(i+1) for i in np.arange(9)]\n",
    "room_names_10_18 = ['Room_{}'.format(i+1) for i in np.arange(9, 18)]\n",
    "room_names = room_names_0_9 + room_names_10_18\n",
    "room_details = [\n",
    "    'adult_capacity', \n",
    "    'child_capacity', \n",
    "    'base_cost', \n",
    "    'child_cot_cost', \n",
    "    'view_type'\n",
    "    ]\n",
    "\n",
    "# Construct empty DataFrame\n",
    "room_data = pd.DataFrame(\n",
    "    index = room_names, \n",
    "    columns = room_details\n",
    "    )\n",
    "room_data.index.name = 'room_name'"
   ]
  },
  {
   "cell_type": "markdown",
   "id": "20e7a3fc-724c-40d1-8be9-c1b6a7ece529",
   "metadata": {},
   "source": [
    "Populate room_data with sample data"
   ]
  },
  {
   "cell_type": "code",
   "execution_count": 3,
   "id": "873a13f9-0688-4d48-b6b7-aaca3be65bb0",
   "metadata": {},
   "outputs": [],
   "source": [
    "# Set basic data\n",
    "room_data.loc[:, 'adult_capacity'] = 2\n",
    "room_data.loc[:, 'child_capacity'] = 2\n",
    "room_data.loc['Room_01':'Room_09', 'view_type'] = 'garden'\n",
    "room_data.loc['Room_10':'Room_18', 'view_type'] = 'city'\n",
    "room_data.loc[:, 'child_cot_cost'] = 20\n",
    "room_data.loc[:, 'base_cost'] = 100"
   ]
  },
  {
   "cell_type": "code",
   "execution_count": 4,
   "id": "83edc647-4c52-4f9c-8755-77c91a0d0837",
   "metadata": {},
   "outputs": [],
   "source": [
    "# Tests/validations?\n",
    "# make sure all view_types in ['garden', 'city']\n",
    "# Check final prices are in the 50-200 range\n",
    "# Check total capacities are <6"
   ]
  },
  {
   "cell_type": "markdown",
   "id": "94536f97-4091-4597-ae96-df679a7be9a0",
   "metadata": {},
   "source": [
    "### Generate table with customer data"
   ]
  },
  {
   "cell_type": "markdown",
   "id": "687b838d-779b-4d81-9688-8df342313848",
   "metadata": {},
   "source": [
    "Set up table cust_data to hold customer-specific info."
   ]
  },
  {
   "cell_type": "code",
   "execution_count": 5,
   "id": "ed50c043-5730-4ec3-97fe-1a0a2b92104e",
   "metadata": {},
   "outputs": [],
   "source": [
    "# Create index and column names\n",
    "# Make sample data for 1000 example customers\n",
    "cust_names = list(set(names.get_full_name() for i in range(1000)))\n",
    "cust_details = [\n",
    "    'customer_initials',\n",
    "    'total_visits',\n",
    "    'credit_card_type',\n",
    "    'credit_card_number',\n",
    "    'email',\n",
    "    'phone_number'\n",
    "    ]\n",
    "\n",
    "# Construct empty DataFrame\n",
    "cust_data = pd.DataFrame(\n",
    "    index = cust_names,\n",
    "    columns = cust_details\n",
    "    )\n",
    "cust_data.index.name = 'customer_name'"
   ]
  },
  {
   "cell_type": "markdown",
   "id": "46fda193-7202-4f91-8c5b-c2263f193912",
   "metadata": {},
   "source": [
    "Populate cust_data with sample data"
   ]
  },
  {
   "cell_type": "code",
   "execution_count": 6,
   "id": "237c911e-70ac-4f04-ae22-c039d238a2d8",
   "metadata": {},
   "outputs": [],
   "source": [
    "# Use index to figure out customer initials\n",
    "cust_data.loc[:, 'customer_initials'] = list(\n",
    "    map(\n",
    "        lambda x: '{}'.format(''.join([i[0].upper() for i in x.split()])), \n",
    "        cust_data.index\n",
    "        )\n",
    "    )\n",
    "\n",
    "# Assign a random number of total visits between 1 and 7\n",
    "cust_data.loc[:, 'total_visits'] = np.random.randint(\n",
    "    low = 1, \n",
    "    high = 7, \n",
    "    size = cust_data.shape[0]\n",
    "    )\n",
    "\n",
    "# Generate sample emails based on customer names\n",
    "cust_data.loc[:, 'email'] = list(\n",
    "    map(\n",
    "        lambda x: '{}@gmail.com'.format('.'.join([i.lower() for i in x.split()])), \n",
    "        cust_data.index\n",
    "        )\n",
    "    )\n",
    "\n",
    "# Assign card type as either visa or mastercard to all customers\n",
    "card_types = ['visa', 'mastercard']\n",
    "cust_data.loc[:, 'credit_card_type'] = [\n",
    "    np.random.choice(card_types) for i in range(cust_data.shape[0])\n",
    "    ]\n",
    "\n",
    "# Generate appropriate card numbers for customers based on card type\n",
    "num_visa_cards = np.sum(cust_data['credit_card_type'] == 'visa')\n",
    "num_master_cards = np.sum(cust_data['credit_card_type'] == 'mastercard')\n",
    "cust_data.loc[cust_data['credit_card_type'] == 'visa', 'credit_card_number'] = [\n",
    "    str(ccard.visa()) for i in range(num_visa_cards)\n",
    "    ]\n",
    "cust_data.loc[cust_data['credit_card_type'] == 'mastercard', 'credit_card_number'] = [\n",
    "    str(ccard.mastercard()) for i in range(num_master_cards)\n",
    "    ]\n",
    "\n",
    "# Assign random phone numbers to customers\n",
    "phone_nums = list(\n",
    "    map(\n",
    "        str, \n",
    "        np.random.randint(\n",
    "            low = 1000000000, \n",
    "            high = 9999999999, \n",
    "            size = cust_data.shape[0]\n",
    "            )\n",
    "        )\n",
    "    )\n",
    "cust_data.loc[:, 'phone_number'] = list(\n",
    "    map(\n",
    "        lambda x: '{} {} {}'.format(x[0:2], x[2:6], x[6:10]), \n",
    "        phone_nums\n",
    "        )\n",
    "    )"
   ]
  },
  {
   "cell_type": "code",
   "execution_count": 7,
   "id": "12785d2c-b493-4501-b21f-b88e0cbdf4e6",
   "metadata": {},
   "outputs": [],
   "source": [
    "# Tests/validations?\n",
    "# Will need test to make sure first name and last name only entered"
   ]
  },
  {
   "cell_type": "markdown",
   "id": "a4e04add-b813-4c21-8583-0bc86cef3460",
   "metadata": {},
   "source": [
    "### Generate table with reservations data"
   ]
  },
  {
   "cell_type": "code",
   "execution_count": 8,
   "id": "566e41c2-bf1f-46c7-80bd-9dcfe29077e5",
   "metadata": {},
   "outputs": [],
   "source": [
    "# Reservation code x (staff member, customer name, num guests, reservation details..., promo code, price)\n",
    "# - price is more if child\n",
    "\n",
    "# New entry into reservation table -> generates option for return customer flag if email matches previous, or last name matches\n"
   ]
  },
  {
   "cell_type": "markdown",
   "id": "df141617-758f-4c9e-b8de-bbdb983616b6",
   "metadata": {},
   "source": [
    "Set up a DataFrame 'reservation_data' to hold reservation info."
   ]
  },
  {
   "cell_type": "code",
   "execution_count": 9,
   "id": "c71f2a41-f845-4a5b-8114-e10250c982f1",
   "metadata": {},
   "outputs": [],
   "source": [
    "# Create index and column names\n",
    "reservation_fields = [\n",
    "    'staff_member_initials',\n",
    "    'customer_name',\n",
    "    'arrival_date',\n",
    "    'departure_date',\n",
    "    'booking_length',\n",
    "    'reservation_status',\n",
    "    'repeat_customer_flag',\n",
    "    'num_adults',\n",
    "    'num_children',\n",
    "    'num_infants', # no charge b/c no cots needed?\n",
    "    'num_rooms_booked',\n",
    "    'rooms_booked', # list of room_names\n",
    "    'promo_code_flag',\n",
    "    'total_price',\n",
    "    'booking_reference'\n",
    "    ]\n",
    "\n",
    "# Determine total number of reservations using cust_data\n",
    "num_reservations = sum(cust_data.total_visits)\n",
    "index_placeholder = np.arange(num_reservations)\n",
    "\n",
    "# Construct empty DataFrame\n",
    "reservation_data = pd.DataFrame(\n",
    "    index = index_placeholder,\n",
    "    columns = reservation_fields\n",
    "    )"
   ]
  },
  {
   "cell_type": "markdown",
   "id": "769ce957-f6e9-40c4-9b1a-58c91dcdf60c",
   "metadata": {},
   "source": [
    "Populate reservation_data with sample data"
   ]
  },
  {
   "cell_type": "code",
   "execution_count": 10,
   "id": "ce943095-53d4-4c7c-99ab-c9c39bb2c5f5",
   "metadata": {},
   "outputs": [],
   "source": [
    "# Assign a random staff member for each reservation\n",
    "staff_members = ['BR', 'VP', 'KJ', 'JT', 'MT']\n",
    "reservation_data.loc[:, 'staff_member_initials'] = [\n",
    "    np.random.choice(staff_members) for i in range(reservation_data.shape[0])\n",
    "    ]\n",
    "\n",
    "# Assign a random customer for each reservation\n",
    "visits_data = cust_data.total_visits\n",
    "customers = sum(\n",
    "    [[name] * num_visits \n",
    "     for name, num_visits \n",
    "     in zip(visits_data.index, visits_data.values)],\n",
    "    []\n",
    "    )\n",
    "random.shuffle(customers)\n",
    "reservation_data.loc[:, 'customer_name'] = customers\n",
    "\n",
    "# Assign a random arrival date\n",
    "# Reservations date range will span last 1 year to 1 month from today\n",
    "today = datetime.datetime.strptime('20/09/2023', \"%d/%m/%Y\").date()\n",
    "date_list = [today + datetime.timedelta(days = x) for x in range(-365, 31)]\n",
    "reservation_data.loc[:, 'arrival_date'] = [\n",
    "    np.random.choice(date_list) for i in range(reservation_data.shape[0])\n",
    "    ]\n",
    "\n",
    "# Assume stays of uniform probability between 1 and 6 days \n",
    "booking_lengths = [\n",
    "    datetime.timedelta(\n",
    "        days = np.random.randint(low = 1, \n",
    "                                 high = 6\n",
    "                                )\n",
    "        ) \n",
    "        for i in range(reservation_data.shape[0])\n",
    "    ]\n",
    "reservation_data.loc[:, 'departure_date'] = (\n",
    "    reservation_data.loc[:, 'arrival_date']\n",
    "    + booking_lengths\n",
    "    )\n",
    "\n",
    "# Assign booking lengths\n",
    "booking_lengths_ints = [x.days for x in booking_lengths]\n",
    "reservation_data.loc[:, 'booking_length'] = booking_lengths_ints\n",
    "\n",
    "# Generate reservation statuses based on dates given\n",
    "# (cancelled/upcoming/active/completed)\n",
    "reservation_data.loc[:, 'reservation_status'] = 'active'\n",
    "reservation_data.loc[reservation_data['arrival_date'] > today, 'reservation_status'] = [\n",
    "    'upcoming']\n",
    "reservation_data.loc[reservation_data['departure_date'] < today, 'reservation_status'] = [\n",
    "    'completed']\n",
    "# Assume 1% of reservations get cancelled\n",
    "reservation_data.loc[reservation_data.index % 100 == 0, 'reservation_status'] = [\n",
    "    'cancelled']\n",
    "\n",
    "# Assign a random flag for repeat customer Y/N\n",
    "repeat_flags = ['Y', 'N']\n",
    "reservation_data.loc[:, 'repeat_customer_flag'] = [\n",
    "    np.random.choice(repeat_flags) for i in range(reservation_data.shape[0])\n",
    "    ]\n",
    "\n",
    "# Assign a random number of adults between 1 & 4\n",
    "num_adults = [1, 2, 3, 4]\n",
    "reservation_data.loc[:, 'num_adults'] = [\n",
    "    np.random.choice(num_adults) for i in range(reservation_data.shape[0])\n",
    "    ]\n",
    "\n",
    "# Assign a random number of children between 0 & 2\n",
    "num_children = [0, 1, 2]\n",
    "reservation_data.loc[:, 'num_children'] = [\n",
    "    np.random.choice(num_children) for i in range(reservation_data.shape[0])\n",
    "    ]\n",
    "\n",
    "# Assign a random number of infants between 0 & 2\n",
    "num_infants = [0, 1, 2]\n",
    "reservation_data.loc[:, 'num_infants'] = [\n",
    "    np.random.choice(num_infants) for i in range(reservation_data.shape[0])\n",
    "    ]\n",
    "\n",
    "# Calculate the number of rooms booked based on reservation size\n",
    "reservation_data.loc[:, 'num_rooms_booked'] = 1\n",
    "reservation_data.loc[reservation_data['num_adults'] > 2, 'num_rooms_booked'] = 2\n",
    "\n",
    "# Assign specific rooms randomly based on number of rooms booked\n",
    "num_single_books = sum(reservation_data['num_rooms_booked'] == 1)\n",
    "num_double_books = sum(reservation_data['num_rooms_booked'] == 2)\n",
    "reservation_data.loc[reservation_data['num_rooms_booked'] == 1, 'rooms_booked'] = [\n",
    "    [np.random.choice(room_names)] for i in range(num_single_books)\n",
    "    ]\n",
    "reservation_data.loc[reservation_data['num_rooms_booked'] == 2, 'rooms_booked'] = [\n",
    "    np.random.choice(\n",
    "        room_names, \n",
    "        size = 2, \n",
    "        replace = False\n",
    "        ) \n",
    "        for i in range(num_double_books)\n",
    "    ]\n",
    "\n",
    "# Assign promo code flag randomly\n",
    "# Assume 10% of reservations have a code\n",
    "reservation_data = reservation_data.sample(frac = 1, ignore_index = True)\n",
    "reservation_data.loc[:, 'promo_code_flag'] = 'N'\n",
    "reservation_data.loc[reservation_data.index % 10 == 0, 'promo_code_flag'] = 'Y'\n",
    "\n",
    "# Calculate total prices based on number of rooms and children\n",
    "# Assume promo codes are worth a 10% discount\n",
    "reservation_data.loc[:, 'total_price'] = (\n",
    "    reservation_data['num_rooms_booked'] * 100).add(\n",
    "    reservation_data['num_children'] * 20)\n",
    "reservation_data.loc[reservation_data['promo_code_flag'] == 'Y', 'total_price'] *= 0.9\n",
    "\n",
    "# Explode & re-cast rooms_booked so rooms can be cross-referenced to room_data\n",
    "reservation_data = reservation_data.explode('rooms_booked').rename(columns = {'rooms_booked' : 'room_name'})\n",
    "\n",
    "# Generate booking references using the following formula:\n",
    "# Reference = agent_initials-date_of_arrival-date_of_departure-room_names-cust_initials-sequential_no\n",
    "reservation_data.sort_values(by=['arrival_date'], inplace=True, ignore_index=True)\n",
    "booking_ref_nos = [reservation_data['staff_member_initials'] + '-' \n",
    "                   + reservation_data['arrival_date'].apply(lambda x: x.strftime(\"%d-%m-%y\")) + '-'\n",
    "                   + reservation_data['departure_date'].apply(lambda x: x.strftime(\"%d-%m-%y\")) + '-'\n",
    "                   + reservation_data['room_name'] + '-'\n",
    "                   + reservation_data['customer_name'].apply(lambda x: ''.join(\n",
    "                       [x.split()[0][0], \n",
    "                        x.split()[1][0]]\n",
    "                       )) + '-'\n",
    "                   + reservation_data.index.astype(str)\n",
    "                  ]\n",
    "reservation_data.loc[:, 'booking_reference'] = booking_ref_nos[0]\n",
    "\n",
    "# Set data index as booking references\n",
    "reservation_data.set_index('booking_reference', inplace = True)\n",
    "\n",
    "# Remove double-bookings in sample data\n",
    "availability_info = reservation_data.loc[:, ['room_name', 'arrival_date', 'departure_date']]\n",
    "availability_info = availability_info.reset_index().set_index('room_name')\n",
    "availability_info['dates'] = [\n",
    "    pd.date_range(x, y) \n",
    "    for x , y in \n",
    "    zip(availability_info['arrival_date'], availability_info['departure_date'])\n",
    "    ]\n",
    "availability_info = availability_info.explode('dates').drop(columns = ['arrival_date', 'departure_date'])\n",
    "availability_info.reset_index(inplace = True)\n",
    "availability_info.drop_duplicates(subset = ['room_name', 'dates'], keep = False, inplace = True)\n",
    "good_references = list(set(availability_info['booking_reference']))\n",
    "reservation_data = reservation_data.loc[good_references, :]\n",
    "\n",
    "# Re-format dates as Australian standard\n",
    "arrive_dates = reservation_data.loc[:, 'arrival_date'].apply(lambda x: x.strftime(\"%d-%m-%y\"))\n",
    "depart_dates = reservation_data.loc[:, 'departure_date'].apply(lambda x: x.strftime(\"%d-%m-%y\"))\n",
    "reservation_data['arrival_date'] = arrive_dates\n",
    "reservation_data['departure_date'] = depart_dates\n",
    "\n",
    "# Sort by customer name\n",
    "reservation_data.sort_values(by = 'customer_name', inplace=True)"
   ]
  },
  {
   "cell_type": "code",
   "execution_count": 11,
   "id": "c679a141-aad0-4919-a40d-20e7a88732e2",
   "metadata": {},
   "outputs": [],
   "source": [
    "# Tests/validations?\n",
    "# Check final prices are in the 50-200 range\n",
    "# Check total capacities are <6"
   ]
  },
  {
   "cell_type": "markdown",
   "id": "1b67ba0e-5f8a-43ff-82dd-dad7ff372fa9",
   "metadata": {},
   "source": [
    "### Generate table with room availability data\n",
    "(populated with reservation code or available)"
   ]
  },
  {
   "cell_type": "markdown",
   "id": "744afdbf-9e1e-4906-bdb7-c01c6c00804c",
   "metadata": {},
   "source": [
    "Set up and fill a DataFrame 'availability_data' to hold room availability info."
   ]
  },
  {
   "cell_type": "code",
   "execution_count": 12,
   "id": "672f8762-b4bf-4421-bc1e-01eb3fc1e3e8",
   "metadata": {},
   "outputs": [],
   "source": [
    "# Use availability_info to fill booked days with booking refs., and un-booked as 'empty'\n",
    "availability_data = availability_info.pivot(index = 'room_name', columns = 'dates', values = 'booking_reference')\n",
    "availability_data.fillna(value = 'empty', inplace=True)\n",
    "availabile_dates = [x.strftime(\"%d-%m-%y\") for x in availability_data.columns]\n",
    "availability_data.columns = availabile_dates"
   ]
  },
  {
   "cell_type": "code",
   "execution_count": 13,
   "id": "8655047a-1c98-491c-9b9a-486e1a1b1249",
   "metadata": {},
   "outputs": [],
   "source": [
    "# Tests/validations?\n",
    "# Check columns are valid dates?"
   ]
  },
  {
   "cell_type": "markdown",
   "id": "bdcfa62d-bed1-4feb-8710-69fda68fd6ea",
   "metadata": {},
   "source": [
    "# Export reservation DataFrames into a database as tables"
   ]
  },
  {
   "cell_type": "code",
   "execution_count": 14,
   "id": "743e10cb-dabc-4aee-ac5b-fa19ce954d20",
   "metadata": {},
   "outputs": [
    {
     "data": {
      "text/plain": [
       "<sqlite3.Cursor at 0x119447ac0>"
      ]
     },
     "execution_count": 14,
     "metadata": {},
     "output_type": "execute_result"
    }
   ],
   "source": [
    "# Create a database location & connection\n",
    "DATABASE_URI = 'ahs_reservations.db'\n",
    "conn = sqlite3.connect(DATABASE_URI)\n",
    "conn.execute('PRAGMA foreign_keys = 1')\n",
    "cur = conn.cursor()\n",
    "cur.execute('PRAGMA foreign_keys = ON')"
   ]
  },
  {
   "cell_type": "markdown",
   "id": "136d6ff9-dcaf-4af7-aa03-4de278ff5246",
   "metadata": {},
   "source": [
    "### Export room_data"
   ]
  },
  {
   "cell_type": "code",
   "execution_count": 15,
   "id": "4a1733b8-392f-4017-97e4-f5035d755edb",
   "metadata": {},
   "outputs": [],
   "source": [
    "# Define room_data table schema\n",
    "room_data_schema = {\n",
    "    'room_name' : 'CHAR(7) PRIMARY KEY',    \n",
    "    'adult_capacity' : 'INTEGER',\n",
    "    'child_capacity' : 'INTEGER',\n",
    "    'base_cost' : 'INTEGER',\n",
    "    'child_cot_cost' : 'INTEGER',\n",
    "    'view_type' : 'VARCHAR(6)'\n",
    "    }"
   ]
  },
  {
   "cell_type": "code",
   "execution_count": 16,
   "id": "5f500d96-c494-4ce3-9b00-0c9ae6cadb69",
   "metadata": {},
   "outputs": [
    {
     "data": {
      "text/plain": [
       "18"
      ]
     },
     "execution_count": 16,
     "metadata": {},
     "output_type": "execute_result"
    }
   ],
   "source": [
    "# Export room_data DataFrame as table\n",
    "room_data.to_sql(\n",
    "    name = 'room_data', \n",
    "    con = conn, \n",
    "    if_exists = 'replace',\n",
    "    dtype = room_data_schema\n",
    "    )"
   ]
  },
  {
   "cell_type": "markdown",
   "id": "edc3452b-02a5-427a-9eea-bcfc557e0765",
   "metadata": {},
   "source": [
    "### Export cust_data"
   ]
  },
  {
   "cell_type": "code",
   "execution_count": 17,
   "id": "a449d667-4a8f-4e18-9506-177de3e5e4f2",
   "metadata": {},
   "outputs": [],
   "source": [
    "# Define room_data table schema\n",
    "cust_data_schema = {\n",
    "    'customer_name' : 'VARCHAR(50) PRIMARY KEY',    \n",
    "    'customer_initials' : 'CHAR(2)',\n",
    "    'total_visits' : 'INTEGER',\n",
    "    'credit_card_type' : 'VARCHAR(10)',\n",
    "    'credit_card_number' : 'CHAR(16)',\n",
    "    'email' : 'VARCHAR(70)',\n",
    "    'phone_number' : 'CHAR(12)'\n",
    "    }"
   ]
  },
  {
   "cell_type": "code",
   "execution_count": 18,
   "id": "7b098659-a99d-48a9-9ae2-c40587e120ef",
   "metadata": {},
   "outputs": [
    {
     "data": {
      "text/plain": [
       "1000"
      ]
     },
     "execution_count": 18,
     "metadata": {},
     "output_type": "execute_result"
    }
   ],
   "source": [
    "# Export room_data DataFrame as table\n",
    "cust_data.to_sql(\n",
    "    name = 'cust_data', \n",
    "    con = conn, \n",
    "    if_exists = 'replace',\n",
    "    dtype = cust_data_schema\n",
    "    )"
   ]
  },
  {
   "cell_type": "markdown",
   "id": "03debd1e-5a96-43db-b3a9-007c2cc8e21b",
   "metadata": {},
   "source": [
    "### Export availability_data"
   ]
  },
  {
   "cell_type": "code",
   "execution_count": 19,
   "id": "4942e423-4289-468c-ae79-579ab9949e76",
   "metadata": {},
   "outputs": [],
   "source": [
    "# Define availability_data table schema\n",
    "availability_data_schema = {'room_name' : 'CHAR(7) PRIMARY KEY'}\n",
    "availability_data_schema.update({i: 'CHAR(8)' for i in availability_data.columns})"
   ]
  },
  {
   "cell_type": "code",
   "execution_count": 20,
   "id": "28e21099-e61c-40a2-afe7-0337ba4cd1c3",
   "metadata": {},
   "outputs": [
    {
     "data": {
      "text/plain": [
       "18"
      ]
     },
     "execution_count": 20,
     "metadata": {},
     "output_type": "execute_result"
    }
   ],
   "source": [
    "# Export availability_data DataFrame as table\n",
    "availability_data.to_sql(\n",
    "    name = 'availability_data', \n",
    "    con = conn, \n",
    "    if_exists = 'replace',\n",
    "    dtype = availability_data_schema\n",
    "    )"
   ]
  },
  {
   "cell_type": "markdown",
   "id": "64b9d8f4-7f63-4c9f-9c11-b57f21adc461",
   "metadata": {},
   "source": [
    "### Export reservation_data"
   ]
  },
  {
   "cell_type": "code",
   "execution_count": 21,
   "id": "11312b4f-9de1-4208-8e4a-41673478d58c",
   "metadata": {},
   "outputs": [],
   "source": [
    "# Convert integer columns to integers (fix export bug)\n",
    "int_columns = [\n",
    "    'booking_length', \n",
    "    'num_adults', \n",
    "    'num_children', \n",
    "    'num_infants', \n",
    "    'num_rooms_booked', \n",
    "    'total_price'\n",
    "    ]\n",
    "for col in int_columns:\n",
    "    reservation_data[col] = reservation_data[col].astype(int)\n",
    "\n",
    "# Define reservation_data table schema\n",
    "reservation_data_schema = {\n",
    "    'booking_reference' : 'VARCHAR(40) PRIMARY KEY',\n",
    "    'staff_member_initials' : 'CHAR(2)',\n",
    "    'customer_name' : 'VARCHAR(50) REFERENCES cust_data(customer_name)', # Foreign Key\n",
    "    'arrival_date' : 'CHAR(8)',\n",
    "    'departure_date' : 'CHAR(8)',\n",
    "    'booking_length' : 'INTEGER',\n",
    "    'reservation_status' : 'VARCHAR(9)',\n",
    "    'repeat_customer_flag': 'VARCHAR(1)',\n",
    "    'num_adults' : 'INTEGER',\n",
    "    'num_children' : 'INTEGER',\n",
    "    'num_infants' : 'INTEGER',\n",
    "    'num_rooms_booked' : 'INTEGER',\n",
    "    'room_name' : 'CHAR(7) REFERENCES room_data(room_name)',\n",
    "    'promo_code_flag' : 'CHAR(1)',\n",
    "    'total_price' : 'INTEGER'\n",
    "    }"
   ]
  },
  {
   "cell_type": "code",
   "execution_count": 22,
   "id": "cfc2b1ae-93f8-4bac-8b2b-d56daca5571b",
   "metadata": {},
   "outputs": [
    {
     "data": {
      "text/plain": [
       "692"
      ]
     },
     "execution_count": 22,
     "metadata": {},
     "output_type": "execute_result"
    }
   ],
   "source": [
    "# Export reservation_data DataFrame as table\n",
    "reservation_data.to_sql(\n",
    "    name = 'reservation_data', \n",
    "    con = conn, \n",
    "    if_exists = 'replace',\n",
    "    dtype = reservation_data_schema\n",
    "    )\n",
    "\n",
    "# Connect room_name as a FOREIGN KEY to availability_data as well\n",
    "# Can't make this work :( \n",
    "# Multiple foreign keys seems not to be supported\n",
    "\n",
    "#conn.execute('''\n",
    "#    ALTER TABLE reservation_data\n",
    "#    ADD FOREIGN KEY (room_name) REFERENCES availability_data(room_name);\n",
    "#''')"
   ]
  },
  {
   "cell_type": "code",
   "execution_count": null,
   "id": "8e8e28f2-7495-4c13-a738-acfd776b3bca",
   "metadata": {},
   "outputs": [],
   "source": []
  }
 ],
 "metadata": {
  "kernelspec": {
   "display_name": "Python 3 (ipykernel)",
   "language": "python",
   "name": "python3"
  },
  "language_info": {
   "codemirror_mode": {
    "name": "ipython",
    "version": 3
   },
   "file_extension": ".py",
   "mimetype": "text/x-python",
   "name": "python",
   "nbconvert_exporter": "python",
   "pygments_lexer": "ipython3",
   "version": "3.11.4"
  }
 },
 "nbformat": 4,
 "nbformat_minor": 5
}
